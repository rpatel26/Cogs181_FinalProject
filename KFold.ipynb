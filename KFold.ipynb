{
 "cells": [
  {
   "cell_type": "code",
   "execution_count": 7,
   "metadata": {},
   "outputs": [],
   "source": [
    "from random import *\n",
    "import numpy as np\n",
    "import numpy.matlib\n",
    "def kFoldIndices(numPoints, k):\n",
    "    indices = np.zeros((1, numPoints))\n",
    "    for i in range(0, numPoints):\n",
    "        indices[0][i] = randint(1, k)\n",
    "    return indices\n",
    "def kFold(predArr, labelArr, k, model):\n",
    "    numPoints = predArr.shape[0]\n",
    "    predArr = np.array([predArr])\n",
    "    labelArr = np.array([labelArr])\n",
    "    indices = kFoldIndices(numPoints, k)\n",
    "    trainMSE = 0\n",
    "    testMSE = 0\n",
    "    for i in range(0, k):\n",
    "        test = (indices == i)\n",
    "        train = (indices != i)\n",
    "        trainPreds = predArr[train]\n",
    "        trainLabels = labelArr[train]\n",
    "        testPreds = predArr[test]\n",
    "        testLabels = labelArr[test]\n",
    "        \n",
    "        #Model Fit on Training Data Here\n",
    "        #if model == 'MLP':\n",
    "        #elif model == 'RNN':\n",
    "        #elif model == 'CNN':\n",
    "        #elif model == 'KMeans':\n",
    "        \n",
    "        #Model Fit on Testing Data Here\n",
    "        #if model == 'MLP':\n",
    "        #elif model == 'RNN':\n",
    "        #elif model == 'CNN':\n",
    "        #elif model == 'KMeans':\n",
    "        \n",
    "    #trainMSE = trainMSE / k\n",
    "    #testMSE = testMSE / k\n",
    "    #return (trainMSE, testMSE)"
   ]
  }
 ],
 "metadata": {
  "kernelspec": {
   "display_name": "Python 2",
   "language": "python",
   "name": "python2"
  },
  "language_info": {
   "codemirror_mode": {
    "name": "ipython",
    "version": 2
   },
   "file_extension": ".py",
   "mimetype": "text/x-python",
   "name": "python",
   "nbconvert_exporter": "python",
   "pygments_lexer": "ipython2",
   "version": "2.7.13"
  }
 },
 "nbformat": 4,
 "nbformat_minor": 2
}
